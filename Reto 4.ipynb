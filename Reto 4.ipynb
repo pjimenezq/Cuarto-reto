{
 "cells": [
  {
   "cell_type": "markdown",
   "metadata": {},
   "source": [
    "# Reto 4"
   ]
  },
  {
   "cell_type": "markdown",
   "metadata": {},
   "source": [
    "## Primer punto\n",
    "**Problema planteado**\n",
    "\n",
    "Dado un número entero, determinar si ese número corresponde al código ASCII de una vocal minúscula.\n",
    "\n",
    "**Solución**\n",
    "\n",
    "1. Mostrar el propósito del programa."
   ]
  },
  {
   "cell_type": "code",
   "execution_count": 2,
   "metadata": {},
   "outputs": [
    {
     "name": "stdout",
     "output_type": "stream",
     "text": [
      "Este código determina si un número entero ingresado por el usuario corresponde al código ASCII de una vocal minúscula.\n"
     ]
    }
   ],
   "source": [
    "print(\"Este código determina si un número entero ingresado por el usuario corresponde al código ASCII de una vocal minúscula.\")"
   ]
  },
  {
   "cell_type": "markdown",
   "metadata": {},
   "source": [
    "2. Declarar variable\n",
    "    * Se declara una variable, que corresponde al número entero que lee el programa.\n",
    "    * Se establece el nombre de la variable utilizando _Camelcase_.\n",
    "    * Se especifica que la variable es de tipo _int_, dado a que el programa requiere de un número entero."
   ]
  },
  {
   "cell_type": "code",
   "execution_count": 3,
   "metadata": {},
   "outputs": [],
   "source": [
    "numeroEntero:int"
   ]
  },
  {
   "cell_type": "markdown",
   "metadata": {},
   "source": [
    "3. Inicializar variable\n",
    "    * Se utiliza la función _input()_ para que el usuario pueda ingresar el número entero que desee al programa."
   ]
  },
  {
   "cell_type": "code",
   "execution_count": 4,
   "metadata": {},
   "outputs": [],
   "source": [
    "numeroEntero=int(input(\"Ingrese el número entero para determinar si este corresponde al código ASCII de una vocal minúscula: \"))"
   ]
  },
  {
   "cell_type": "markdown",
   "metadata": {},
   "source": [
    "4. Tabla de caracteres con equivalente en ASCII\n",
    "\n",
    "    Para resolver este problema se identifican los números enteros que corresponden al código ASCII de una vocal minúscula. Estos son:\n",
    "    - 97, que corresponde a _a_\n",
    "    - 101, que corresponde a _e_\n",
    "    - 105, que corresponde a _i_\n",
    "    - 111, que corresponde a _o_\n",
    "    - 117, que corresponde a _u_\n",
    "\n",
    "5. Estructura condicional if-else\n",
    "    * Se crea una estructura condicional, en la cual si el número entero ingresado corresponde al código ASCII de alguna de las vocales en minúscula, entonces se imprime la frase \"El número entero ingresado corresponde al código ASCII de la vocal minúscula a/e/i/o/u\"\n",
    "    * Para  convertir el número entero ingresado en el caracter de la vocal e imprimirlo se usa la función chr()\n",
    "    * Con _else_ se establece que cuando la anterior condición no se cumple, el número ingresado al programa no corresponde al código ASCII de una vocal minúscula. Por ende, se imprime la frase \"El número entero ingresado no corresponde al código ASCII de una vocal minúscula\"."
   ]
  },
  {
   "cell_type": "code",
   "execution_count": 5,
   "metadata": {},
   "outputs": [
    {
     "name": "stdout",
     "output_type": "stream",
     "text": [
      "El número entero ingresado corresponde al código ASCII de la vocal minúscula i\n"
     ]
    }
   ],
   "source": [
    "if numeroEntero==97 or numeroEntero==101 or numeroEntero==105 or numeroEntero==111 or numeroEntero==117:\n",
    "    print(\"El número entero ingresado corresponde al código ASCII de la vocal minúscula \"+ chr(numeroEntero))\n",
    "else:\n",
    "    print(\"El número entero ingresado no corresponde al código ASCII de una vocal minúscula\")\n",
    "                 "
   ]
  },
  {
   "cell_type": "markdown",
   "metadata": {},
   "source": [
    "## Segundo punto\n",
    "**Problema planteado**\n",
    "\n",
    "Dada una cadena de longitud 1, determine si el código ASCII de primera letra de la cadena es par o no.\n",
    "\n",
    "**Solución**\n",
    "\n",
    "1. Mostrar el propósito del programa.\n"
   ]
  },
  {
   "cell_type": "code",
   "execution_count": 6,
   "metadata": {},
   "outputs": [
    {
     "name": "stdout",
     "output_type": "stream",
     "text": [
      "Este código determina si el código ASCII de la primera letra de la cadena de longitud 1 es par o no\n"
     ]
    }
   ],
   "source": [
    "print(\"Este código determina si el código ASCII de la primera letra de la cadena de longitud 1 es par o no\")"
   ]
  },
  {
   "cell_type": "markdown",
   "metadata": {},
   "source": [
    "2. Declarar variable\n",
    "    * Se declara una variable, que corresponde al string que lee el programa.\n",
    "    * Se especifica que la variable es de tipo _str_, dado a que el programa requiere de una cadena de longitud 1."
   ]
  },
  {
   "cell_type": "code",
   "execution_count": 7,
   "metadata": {},
   "outputs": [],
   "source": [
    "cadena:str"
   ]
  },
  {
   "cell_type": "markdown",
   "metadata": {},
   "source": [
    "3. Inicializar variable\n",
    "    * Se utiliza la función _input()_ para que el usuario pueda ingresar el carácter que desee al programa."
   ]
  },
  {
   "cell_type": "code",
   "execution_count": 8,
   "metadata": {},
   "outputs": [],
   "source": [
    "cadena=str(input(\"Ingrese una cadena de caracteres de longitud 1: \"))"
   ]
  },
  {
   "cell_type": "markdown",
   "metadata": {},
   "source": [
    "4. Estructura condicional if-else\n",
    "    * Con la función _ord()_ se convierte el carácter a código ASCII (un número entero).\n",
    "    * Con el operador aritmético % y el operador lógico == se establece la condición de que si el modulo entre el código ASCII y el número 2 es igual a 0, entonces el código ASCII del string es par. Sí la condición se cumple, entonces se imprime la frase \"El código ASCII de la letra de la cadena es par\".\n",
    "    * Con _else_ se establece que cuando la anterior condición no se cumple, el código ASCII es impar. Por ende, se imprime la frase \"El código ASCII de la letra de la cadena es impar\"."
   ]
  },
  {
   "cell_type": "code",
   "execution_count": 9,
   "metadata": {},
   "outputs": [
    {
     "name": "stdout",
     "output_type": "stream",
     "text": [
      "El código ASCII de la letra de la cadena es par\n"
     ]
    }
   ],
   "source": [
    "if ord(cadena)%2==0:\n",
    "    print(\"El código ASCII de la letra de la cadena es par\")\n",
    "else:\n",
    "    print(\"El código ASCII de la letra de la cadena es impar\")"
   ]
  },
  {
   "cell_type": "markdown",
   "metadata": {},
   "source": [
    "## Tercer punto\n",
    "**Problema planteado**\n",
    "\n",
    "Dado un carácter, construya un programa en Python para determinar si el carácter es un dígito o no.\n"
   ]
  },
  {
   "cell_type": "markdown",
   "metadata": {},
   "source": [
    "**Solución**\n",
    "\n",
    "1. Mostrar el propósito del programa."
   ]
  },
  {
   "cell_type": "code",
   "execution_count": 10,
   "metadata": {},
   "outputs": [
    {
     "name": "stdout",
     "output_type": "stream",
     "text": [
      "Este programa determina si el carácter ingresado por el usuario es un dígito o no\n"
     ]
    }
   ],
   "source": [
    "print(\"Este programa determina si el carácter ingresado por el usuario es un dígito o no\")"
   ]
  },
  {
   "cell_type": "markdown",
   "metadata": {},
   "source": [
    "2. Declarar variable\n",
    "    * Se declara una variable, que corresponde al string que lee el programa.\n",
    "    * Se especifica que la variable es de tipo _str_, dado a que el programa requiere de un carácter.\n"
   ]
  },
  {
   "cell_type": "code",
   "execution_count": 11,
   "metadata": {},
   "outputs": [],
   "source": [
    "caracter:str\n"
   ]
  },
  {
   "cell_type": "markdown",
   "metadata": {},
   "source": [
    "3. Inicializar variable\n",
    "    * Se utiliza la función _input()_ para que el usuario pueda ingresar el carácter que desee al programa.\n"
   ]
  },
  {
   "cell_type": "code",
   "execution_count": 12,
   "metadata": {},
   "outputs": [],
   "source": [
    "caracter=str(input(\"Ingrese el carácter para determinar si es un dígito o no: \"))\n"
   ]
  },
  {
   "cell_type": "markdown",
   "metadata": {},
   "source": [
    "4. Tabla de caracteres con equivalente en ASCII\n",
    "\n",
    "    Para resolver este problema se identifican los números enteros que corresponden al código ASCII de los dígitos. Estos son:\n",
    "    - 48, que corresponde a 0\n",
    "    - 49, que corresponde a 1\n",
    "    - 50, que corresponde a 2\n",
    "    - 51, que corresponde a 3\n",
    "    - 52, que corresponde a 4\n",
    "    - 53, que corresponde a 5\n",
    "    - 54, que corresponde a 6\n",
    "    - 55, que corresponde a 7\n",
    "    - 56, que corresponde a 8\n",
    "    - 57, que corresponde a 9\n",
    "\n",
    "\n",
    "5. Estructura condicional if-else\n",
    "    * Con la función _ord()_ se convierte el carácter a código ASCII (un número entero).\n",
    "    * Se crea una estructura condicional, en la cual si el cáracter ingresado corresponde al código ASCII de alguno de los dígitos, entonces se imprime la frase \"El carácter ingresado sí es un dígito.\".\n",
    "    * Con _else_ se establece que cuando la anterior condición no se cumple, el cáracter ingresado al programa no es un dígito. En este orden de ideas, se imprime la frase \"El carácter ingresado no es un dígito.\"."
   ]
  },
  {
   "cell_type": "code",
   "execution_count": 13,
   "metadata": {},
   "outputs": [
    {
     "name": "stdout",
     "output_type": "stream",
     "text": [
      "El carácter ingresado 8 sí es un dígito.\n"
     ]
    }
   ],
   "source": [
    "if ord(caracter)==48 or ord(caracter)==49 or ord(caracter)==50 or ord(caracter)==51 or ord(caracter)==52 or ord(caracter)==53 or ord(caracter)==54 or ord(caracter)==55 or ord(caracter)==56 or ord(caracter)==57:\n",
    "    print(\"El carácter ingresado \"+ caracter + \" sí es un dígito.\")\n",
    "else:\n",
    "    print(\"El carácter ingresado \" + caracter + \" no es un dígito.\")"
   ]
  },
  {
   "cell_type": "markdown",
   "metadata": {},
   "source": [
    "## Cuarto punto\n",
    "Dado un número real x, construya un programa que permita determinar si el número es positivo, negativo o cero. Para cada caso de debe imprimir el texto que se especifica a continuación:\n",
    "* Positivo: \"El número x es positivo\"\n",
    "* Negativo: \"El número x es negativo\"\n",
    "* Cero (0): \"El número x es el neutro para la suma\""
   ]
  },
  {
   "cell_type": "code",
   "execution_count": 14,
   "metadata": {},
   "outputs": [
    {
     "name": "stdout",
     "output_type": "stream",
     "text": [
      "Este código determina si el número real x ingresado por el usuario es positivo, negativo o cero\n",
      "El número x es positivo\n"
     ]
    }
   ],
   "source": [
    "print(\"Este código determina si el número real x ingresado por el usuario es positivo, negativo o cero\")\n",
    "\n",
    "x:float\n",
    "x=float(input(\"Ingrese un número real x: \"))\n",
    "if x>0:\n",
    "    print(\"El número x es positivo\")\n",
    "elif x<0:\n",
    "    print(\"El número x es negativo\")\n",
    "else:\n",
    "    print(\"El número x es el neutro para la suma\")"
   ]
  },
  {
   "cell_type": "markdown",
   "metadata": {},
   "source": [
    "## Quinto punto\n",
    "Dado el centro y el radio de un círculo, determinar si un punto de R2 pertenece o no al interior del círculo"
   ]
  },
  {
   "cell_type": "code",
   "execution_count": 2,
   "metadata": {},
   "outputs": [
    {
     "name": "stdout",
     "output_type": "stream",
     "text": [
      "El centro del círculo es: (6.0,-8.0)\n",
      "El punto (5.0,6.0) no hace parte del círculo.\n"
     ]
    }
   ],
   "source": [
    "### Quinto punto: Dado el centro y el radio de un círculo, determinar si un punto pertenece o no al interior del círculo\n",
    "\n",
    "abscisaCentro:float\n",
    "ordenadaCentro:float\n",
    "radio:float\n",
    "punto:float\n",
    "abscisaPunto:float\n",
    "ordenadaPunto:float\n",
    "\n",
    "abscisaCentro=float(input(\"Ingrese la abscisa del punto correspondiente al centro del círculo: \"))\n",
    "ordenadaCentro=float(input(\"Ingrese la ordenada del punto correspondiente al centro del círculo: \"))\n",
    "print(\"El centro del círculo es: (\" + str(abscisaCentro) + \",\" +str(ordenadaCentro)+ \")\" )\n",
    "\n",
    "radio=float(input(\"Ingrese el radio del círculo: \"))\n",
    "\n",
    "abscisaPunto=float(input(\"Ingrese la abscisa del punto para determinar si pertenece o no al interior del círculo: \"))\n",
    "ordenadaPunto=float(input(\"Ingrese la ordenada del punto para determinar si pertenece o no al interior del círculo: \"))\n",
    "\n",
    "ecuacionCanonica:float\n",
    "ecuacionCanonica=((abscisaPunto-abscisaCentro)**2)+((ordenadaPunto-ordenadaCentro)**2)\n",
    "\n",
    "if ecuacionCanonica<=(radio**2):\n",
    "    print(\"El punto (\" + str(abscisaPunto) + \",\" +str(ordenadaPunto)+ \")\" + \" sí hace parte del círculo.\")\n",
    "else:\n",
    "    print(\"El punto (\" + str(abscisaPunto) + \",\" +str(ordenadaPunto)+ \")\" + \" no hace parte del círculo.\")"
   ]
  },
  {
   "cell_type": "markdown",
   "metadata": {},
   "source": [
    "## Sexto punto\n",
    "Dadas tres longitudes positivas, determinar si con esas longitudes se puede construir un triángulo"
   ]
  },
  {
   "cell_type": "code",
   "execution_count": 16,
   "metadata": {},
   "outputs": [
    {
     "name": "stdout",
     "output_type": "stream",
     "text": [
      "Este código determina si se puede construir un triángulo con tres longitudes positivas ingresadas por el usuario.\n",
      "Con las longitudes de 8.0, 4.0, 3.0 no se puede construir un triángulo.\n"
     ]
    }
   ],
   "source": [
    "print(\"Este código determina si se puede construir un triángulo con tres longitudes positivas ingresadas por el usuario.\")\n",
    "\n",
    "longitudUno:float\n",
    "longitudDos:float\n",
    "longitudTres:float\n",
    "\n",
    "longitudUno=float(input(\"Ingrese la primera longitud positiva: \"))\n",
    "longitudDos=float(input(\"Ingrese la segunda longitud positiva: \"))\n",
    "longitudTres=float(input(\"Ingrese la tercera longitud positiva: \"))\n",
    "\n",
    "if longitudUno+longitudDos>longitudTres and longitudDos+longitudTres>longitudUno and longitudUno+longitudTres>longitudDos:\n",
    "    print(\"Con las longitudes de \"+ str(longitudUno)+ \", \"+ str(longitudDos) + \", \"+ str(longitudTres) + \" sí se puede construir un triángulo.\")\n",
    "else:\n",
    "    print(\"Con las longitudes de \"+ str(longitudUno)+ \", \"+ str(longitudDos) + \", \"+ str(longitudTres) + \" no se puede construir un triángulo.\")\n",
    "    \n"
   ]
  }
 ],
 "metadata": {
  "kernelspec": {
   "display_name": "Python 3",
   "language": "python",
   "name": "python3"
  },
  "language_info": {
   "codemirror_mode": {
    "name": "ipython",
    "version": 3
   },
   "file_extension": ".py",
   "mimetype": "text/x-python",
   "name": "python",
   "nbconvert_exporter": "python",
   "pygments_lexer": "ipython3",
   "version": "3.11.5"
  },
  "orig_nbformat": 4
 },
 "nbformat": 4,
 "nbformat_minor": 2
}
